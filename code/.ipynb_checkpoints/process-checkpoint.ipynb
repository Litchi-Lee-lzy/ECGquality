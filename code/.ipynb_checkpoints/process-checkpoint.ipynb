{
 "cells": [
  {
   "cell_type": "markdown",
   "metadata": {},
   "source": [
    " # 数据集 \n"
   ]
  },
  {
   "cell_type": "code",
   "execution_count": 1,
   "metadata": {},
   "outputs": [],
   "source": [
    "##相应的包\n",
    "import wfdb\n",
    "import numpy as np\n",
    "import pywt\n",
    "import pickle as pk\n",
    "from collections import Counter\n"
   ]
  },
  {
   "cell_type": "code",
   "execution_count": 7,
   "metadata": {},
   "outputs": [],
   "source": [
    "#定义变量\n",
    "PATH = \"../lzy/mit-bih-arrhythmia-database-1.0.0/\" \n",
    "\n",
    "data_names = ['100', '101', '102', '103', '104', '105', '106', '107', \n",
    "              '108', '109', '111', '112', '113', '114', '115', '116', \n",
    "              '117', '118', '119', '121', '122', '123', '124', '200', \n",
    "              '201', '202', '203', '205', '207', '208', '209', '210', \n",
    "              '212', '213', '214', '215', '217', '219', '220', '221', \n",
    "              '222', '223', '228', '230', '231', '232', '233', '234']\n",
    "labels = ['N', 'S', 'V', 'F', 'Q']\n",
    "sub_labels = ['N', 'L', 'R', 'e', 'j', 'A', 'a', 'J', 'S', 'V', 'E', 'F', '/', 'f', 'Q']\n",
    "sub = {'N':'N', 'L':'N', 'R':'N', 'e':'N', 'j':'N', \n",
    "           'A':'S', 'a':'S', 'J':'S', 'S':'S',\n",
    "           'V':'V', 'E':'V',\n",
    "           'F':'F',\n",
    "           '/':'Q', 'f':'Q', 'Q':'Q'}\n",
    "if_denoise = 'denoise'\n",
    "if_normal = 'normal'\n",
    "r_seed = 10"
   ]
  },
  {
   "cell_type": "code",
   "execution_count": 8,
   "metadata": {},
   "outputs": [],
   "source": [
    "#定义处理函数\n",
    "def denoise(sig, sigma, wn='bior1.3'):\n",
    "    threshold = sigma * np.sqrt(2*np.log2(len(sig)))\n",
    "    c = pywt.wavedec(sig, wn)\n",
    "    thresh = lambda x: pywt.threshold(x,threshold,'soft')\n",
    "    nc = list(map(thresh, c))\n",
    "    return pywt.waverec(nc, wn)"
   ]
  },
  {
   "cell_type": "code",
   "execution_count": 9,
   "metadata": {},
   "outputs": [],
   "source": [
    "#病人内分割心拍\n",
    "X = []\n",
    "Y = []\n",
    "wid = 100\n",
    "for d in data_names:\n",
    "    r=wfdb.rdrecord(PATH+d)\n",
    "    ann=wfdb.rdann(PATH+d, 'atr', return_label_elements=['label_store', 'symbol'])\n",
    "    if d!='114':\n",
    "        sig = np.array(r.p_signal[:,0])\n",
    "    else:\n",
    "        sig = np.array(r.p_signal[:,1])\n",
    "    if if_denoise=='denoise':\n",
    "        sig = denoise(sig, 0.005, 'bior1.3')\n",
    "    if if_normal=='normal':\n",
    "        sig = (sig-min(sig)) / (max(sig)-min(sig))\n",
    "    sig_len = len(sig)\n",
    "    sym = ann.symbol\n",
    "    pos = ann.sample\n",
    "    beat_len = len(sym)\n",
    "    for i in range(beat_len):\n",
    "        if sym[i] in sub_labels and pos[i]-wid>=0 and pos[i]+wid+1<=sig_len:\n",
    "            a = sig[pos[i]-wid:pos[i]+wid+1]\n",
    "            if len(a) != 2*wid+1:\n",
    "                print(\"Length error\")\n",
    "                continue\n",
    "            X.append(a)\n",
    "            Y.append(labels.index(sub[sym[i]]))"
   ]
  },
  {
   "cell_type": "code",
   "execution_count": 10,
   "metadata": {},
   "outputs": [
    {
     "name": "stdout",
     "output_type": "stream",
     "text": [
      "(109462, 201)\n",
      "(109462,)\n",
      "Counter({0: 90603, 4: 8041, 2: 7235, 1: 2781, 3: 802})\n"
     ]
    }
   ],
   "source": [
    "X = np.array(X)\n",
    "Y = np.array(Y)\n",
    "print(X.shape)\n",
    "print(Y.shape)\n",
    "print(Counter(Y))"
   ]
  },
  {
   "cell_type": "code",
   "execution_count": 11,
   "metadata": {},
   "outputs": [],
   "source": [
    "data_len = len(X)\n",
    "np.random.seed(r_seed)\n",
    "idx = list(range(data_len))\n",
    "np.random.shuffle(idx)\n",
    "\n",
    "train_len = int(data_len*0.6) # 60%\n",
    "valid_len = int(data_len*0.2) # 20%\n",
    "test_len = data_len-train_len-valid_len # 20%\n",
    "\n",
    "X_train = X[idx][:train_len]\n",
    "X_valid = X[idx][train_len:train_len+valid_len]\n",
    "X_test = X[idx][train_len+valid_len:]\n",
    "Y_train = Y[idx][:train_len]\n",
    "Y_valid = Y[idx][train_len:train_len+valid_len]\n",
    "Y_test = Y[idx][train_len+valid_len:]\n"
   ]
  },
  {
   "cell_type": "code",
   "execution_count": 12,
   "metadata": {},
   "outputs": [],
   "source": [
    "#储存文件\n",
    "X_train = np.expand_dims(X_train, axis=-1)\n",
    "X_valid = np.expand_dims(X_valid, axis=-1)\n",
    "X_test = np.expand_dims(X_test, axis=-1)\n",
    "\n",
    "fn = \"data.pk\"\n",
    "with open(fn, \"wb\") as fw:\n",
    "    pk.dump(X_train, fw, protocol=pk.HIGHEST_PROTOCOL)\n",
    "    pk.dump(Y_train, fw, protocol=pk.HIGHEST_PROTOCOL)\n",
    "    pk.dump(X_valid, fw, protocol=pk.HIGHEST_PROTOCOL)\n",
    "    pk.dump(Y_valid, fw, protocol=pk.HIGHEST_PROTOCOL)\n",
    "    pk.dump(X_test, fw, protocol=pk.HIGHEST_PROTOCOL)\n",
    "    pk.dump(Y_test, fw, protocol=pk.HIGHEST_PROTOCOL)\n"
   ]
  },
  {
   "cell_type": "code",
   "execution_count": 13,
   "metadata": {},
   "outputs": [
    {
     "data": {
      "text/plain": [
       "array(['sw', '2', '2'], dtype='<U2')"
      ]
     },
     "execution_count": 13,
     "metadata": {},
     "output_type": "execute_result"
    }
   ],
   "source": [
    "a=np.array(['sw','2'])\n",
    "np.append(a,'2')"
   ]
  },
  {
   "cell_type": "code",
   "execution_count": 14,
   "metadata": {},
   "outputs": [],
   "source": [
    "def split_dataset(data_name):\n",
    "    X = [];\n",
    "    Y = [];\n",
    "    wid = 100\n",
    "    if '201' in  data_name:\n",
    "        np.append(data_name,'202')\n",
    "    for d in data_name:\n",
    "        r=wfdb.rdrecord(PATH+d)\n",
    "        ann=wfdb.rdann(PATH+d, 'atr', return_label_elements=['label_store', 'symbol'])\n",
    "        if d!='114':\n",
    "            sig = np.array(r.p_signal[:,0])\n",
    "        else:\n",
    "            sig = np.array(r.p_signal[:,1])\n",
    "        if if_denoise=='denoise':\n",
    "            sig = denoise(sig, 0.005, 'bior1.3')\n",
    "        if if_normal=='normal':\n",
    "            sig = (sig-min(sig)) / (max(sig)-min(sig))\n",
    "        sig_len = len(sig)\n",
    "        sym = ann.symbol\n",
    "        pos = ann.sample\n",
    "        beat_len = len(sym)\n",
    "        for i in range(beat_len):\n",
    "            if sym[i] in sub_labels and pos[i]-wid>=0 and pos[i]+wid+1<=sig_len:\n",
    "                a = sig[pos[i]-wid:pos[i]+wid+1]\n",
    "                if len(a) != 2*wid+1:\n",
    "                    print(\"Length error\")\n",
    "                    continue\n",
    "                X.append(a)\n",
    "                Y.append(labels.index(sub[sym[i]]))\n",
    "    return X,Y\n"
   ]
  },
  {
   "cell_type": "code",
   "execution_count": 15,
   "metadata": {},
   "outputs": [],
   "source": [
    "#病人间分割心拍\n",
    "data_names = np.array(['100', '101', '102', '103', '104', '105', '106', '107', \n",
    "              '108', '109', '111', '112', '113', '114', '115', '116', \n",
    "              '117', '118', '119', '121', '122', '123', '124', '200', \n",
    "              '201', '203', '205', '207', '208', '209', '210', \n",
    "              '212', '213', '214', '215', '217', '219', '220', '221', \n",
    "              '222', '223', '228', '230', '231', '232', '233', '234'])\n",
    "\n",
    "data_len = 47\n",
    "np.random.seed(r_seed)\n",
    "idx = list(range(data_len))\n",
    "np.random.shuffle(idx)\n",
    "\n",
    "data_train = data_names[idx][:29]\n",
    "data_valid = data_names[idx][29:38]\n",
    "data_test = data_names[idx][38:48]\n",
    "\n",
    "X_train,Y_train = split_dataset(data_train)\n",
    "X_valid,Y_valid = split_dataset(data_valid)\n",
    "X_test,Y_test = split_dataset(data_test)\n",
    "\n",
    "#储存文件\n",
    "X_train = np.expand_dims(X_train, axis=-1)\n",
    "X_valid = np.expand_dims(X_valid, axis=-1)\n",
    "X_test = np.expand_dims(X_test, axis=-1)\n",
    "\n",
    "fn = \"data_intra.pk\"\n",
    "with open(fn, \"wb\") as fw:\n",
    "    pk.dump(X_train, fw, protocol=pk.HIGHEST_PROTOCOL)\n",
    "    pk.dump(Y_train, fw, protocol=pk.HIGHEST_PROTOCOL)\n",
    "    pk.dump(X_valid, fw, protocol=pk.HIGHEST_PROTOCOL)\n",
    "    pk.dump(Y_valid, fw, protocol=pk.HIGHEST_PROTOCOL)\n",
    "    pk.dump(X_test, fw, protocol=pk.HIGHEST_PROTOCOL)\n",
    "    pk.dump(Y_test, fw, protocol=pk.HIGHEST_PROTOCOL)\n",
    "\n"
   ]
  },
  {
   "cell_type": "code",
   "execution_count": 1,
   "metadata": {},
   "outputs": [
    {
     "data": {
      "text/plain": [
       "[[2, 3, 2], [4, 4, 2]]"
      ]
     },
     "execution_count": 1,
     "metadata": {},
     "output_type": "execute_result"
    }
   ],
   "source": [
    "a = [[2,3],[4,4]]\n",
    "for aa in a:\n",
    "    aa.append(2)\n",
    "    \n",
    "a"
   ]
  },
  {
   "cell_type": "code",
   "execution_count": null,
   "metadata": {},
   "outputs": [],
   "source": []
  }
 ],
 "metadata": {
  "kernelspec": {
   "display_name": "Python 3",
   "language": "python",
   "name": "python3"
  },
  "language_info": {
   "codemirror_mode": {
    "name": "ipython",
    "version": 3
   },
   "file_extension": ".py",
   "mimetype": "text/x-python",
   "name": "python",
   "nbconvert_exporter": "python",
   "pygments_lexer": "ipython3",
   "version": "3.7.9"
  }
 },
 "nbformat": 4,
 "nbformat_minor": 4
}
