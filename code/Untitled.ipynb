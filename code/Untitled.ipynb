{
 "cells": [
  {
   "cell_type": "code",
   "execution_count": 1,
   "metadata": {
    "code_folding": []
   },
   "outputs": [
    {
     "name": "stderr",
     "output_type": "stream",
     "text": [
      "Using TensorFlow backend.\n"
     ]
    }
   ],
   "source": [
    "#from keras.layers import Dense, Dropout, Flatten\n",
    "from keras.layers import Conv1D, MaxPooling1D,Input,Activation,Add\n",
    "from keras.layers import Flatten,Dense,LSTM,Bidirectional,GlobalAveragePooling1D,Dropout\n",
    "from keras.layers.normalization import BatchNormalization\n",
    "from keras.models import Model,Sequential\n",
    "from keras.optimizers import Adam\n",
    "\n"
   ]
  },
  {
   "cell_type": "code",
   "execution_count": 3,
   "metadata": {},
   "outputs": [
    {
     "name": "stdout",
     "output_type": "stream",
     "text": [
      "Model: \"sequential_2\"\n",
      "_________________________________________________________________\n",
      "Layer (type)                 Output Shape              Param #   \n",
      "=================================================================\n",
      "conv1d_3 (Conv1D)            (None, 195, 18)           144       \n",
      "_________________________________________________________________\n",
      "max_pooling1d_3 (MaxPooling1 (None, 97, 18)            0         \n",
      "_________________________________________________________________\n",
      "conv1d_4 (Conv1D)            (None, 91, 18)            2286      \n",
      "_________________________________________________________________\n",
      "max_pooling1d_4 (MaxPooling1 (None, 45, 18)            0         \n",
      "_________________________________________________________________\n",
      "flatten_2 (Flatten)          (None, 810)               0         \n",
      "_________________________________________________________________\n",
      "dense_2 (Dense)              (None, 100)               81100     \n",
      "_________________________________________________________________\n",
      "dense_3 (Dense)              (None, 5)                 505       \n",
      "=================================================================\n",
      "Total params: 84,035\n",
      "Trainable params: 84,035\n",
      "Non-trainable params: 0\n",
      "_________________________________________________________________\n"
     ]
    }
   ],
   "source": [
    "model = Sequential()\n",
    "model.add(Conv1D(18, 7, activation='relu', input_shape=(201,1)))\n",
    "model.add(MaxPooling1D(2))\n",
    "model.add(Conv1D(18, 7, activation='relu'))\n",
    "model.add(MaxPooling1D(2))\n",
    "model.add(Flatten())\n",
    "model.add(Dense(100, activation='relu'))\n",
    "model.add(Dense(5, activation='softmax'))\n",
    "model.summary()"
   ]
  },
  {
   "cell_type": "code",
   "execution_count": 2,
   "metadata": {},
   "outputs": [],
   "source": [
    "def Conv_BN(input_name,num_filter,kernel_size):\n",
    "#     x = Conv1D(18, 7)(input_name)\n",
    "    x = Conv1D(num_filter,kernel_size,padding='same')(input_name)\n",
    "    x1 = BatchNormalization()(x)\n",
    "    return Activation('relu')(x1)\n",
    "\n",
    "def Conv_Res(input_name,num_filter,kernel_size):\n",
    "    x = Conv_BN(input_name,num_filter,kernel_size)\n",
    "    x1 = Conv_BN(x,num_filter,kernel_size)\n",
    "    return Add()([input_name,x1])\n",
    "\n",
    "def Conv_R_A(input_name,num_filter,kernel_size):\n",
    "    x = Conv_BN(input_name,num_filter,kernel_size)\n",
    "    x1 = Conv_BN(x,num_filter,kernel_size)\n",
    "    return Add()([input_name,x1])"
   ]
  },
  {
   "cell_type": "code",
   "execution_count": 3,
   "metadata": {},
   "outputs": [
    {
     "name": "stdout",
     "output_type": "stream",
     "text": [
      "(None, 28)\n"
     ]
    }
   ],
   "source": [
    "from numpy import random\n",
    "s = Input((150,28))\n",
    "\n",
    "layer = GlobalAveragePooling1D()(s)\n",
    "print(layer.shape)"
   ]
  },
  {
   "cell_type": "code",
   "execution_count": 3,
   "metadata": {},
   "outputs": [
    {
     "name": "stdout",
     "output_type": "stream",
     "text": [
      "Model: \"sequential_1\"\n",
      "_________________________________________________________________\n",
      "Layer (type)                 Output Shape              Param #   \n",
      "=================================================================\n",
      "model_1 (Model)              (None, 40)                507632    \n",
      "_________________________________________________________________\n",
      "dense_1 (Dense)              (None, 100)               4100      \n",
      "_________________________________________________________________\n",
      "dense_2 (Dense)              (None, 5)                 505       \n",
      "=================================================================\n",
      "Total params: 512,237\n",
      "Trainable params: 511,437\n",
      "Non-trainable params: 800\n",
      "_________________________________________________________________\n"
     ]
    }
   ],
   "source": [
    "input1 = Input(shape=(300,1))\n",
    "input2 = Input(shape=(550,1))\n",
    "conv1 = Conv_BN(input1,16,32)\n",
    "\n",
    "conv_r1 = Conv_Res(conv1,16,32)\n",
    "conv2  = Conv1D(32,32,strides=2,padding='same')(conv_r1)\n",
    "conv2_x = BatchNormalization()(conv2)\n",
    "conv2_y = Activation('relu')(conv2_x)\n",
    "conv_r2 = Conv_Res(conv2_y,32,32)\n",
    "conv_r3 = Conv_Res(conv_r2,32,32)\n",
    "\n",
    "conv3  = Conv1D(64,32,strides=2,padding='same')(conv_r3)\n",
    "conv3_x = BatchNormalization()(conv3)\n",
    "conv3_y = Activation('relu')(conv3_x)\n",
    "conv_r4 = Conv_Res(conv3_y,64,32)\n",
    "\n",
    "bl = Bidirectional(LSTM(units=20,return_sequences=True))(conv_r4)\n",
    "gap1 = GlobalAveragePooling1D()(bl)\n",
    "\n",
    "drop = Dropout(0.5)(gap1)\n",
    "\n",
    "model1 = Model(input1,drop)\n",
    "m2 = Sequential()\n",
    "m2.add(model1)\n",
    "# m2.add(Flatten())\n",
    "m2.add(Dense(100, activation='relu'))\n",
    "m2.add(Dense(5, activation='softmax'))\n",
    "m2.summary()"
   ]
  },
  {
   "cell_type": "code",
   "execution_count": 7,
   "metadata": {},
   "outputs": [
    {
     "name": "stdout",
     "output_type": "stream",
     "text": [
      "Model: \"sequential_4\"\n",
      "_________________________________________________________________\n",
      "Layer (type)                 Output Shape              Param #   \n",
      "=================================================================\n",
      "conv1d_7 (Conv1D)            (None, 184, 18)           144       \n",
      "_________________________________________________________________\n",
      "max_pooling1d_7 (MaxPooling1 (None, 92, 18)            0         \n",
      "_________________________________________________________________\n",
      "conv1d_8 (Conv1D)            (None, 86, 18)            2286      \n",
      "_________________________________________________________________\n",
      "max_pooling1d_8 (MaxPooling1 (None, 43, 18)            0         \n",
      "_________________________________________________________________\n",
      "flatten_4 (Flatten)          (None, 774)               0         \n",
      "_________________________________________________________________\n",
      "dense_7 (Dense)              (None, 100)               77500     \n",
      "_________________________________________________________________\n",
      "dense_8 (Dense)              (None, 5)                 505       \n",
      "=================================================================\n",
      "Total params: 80,435\n",
      "Trainable params: 80,435\n",
      "Non-trainable params: 0\n",
      "_________________________________________________________________\n"
     ]
    }
   ],
   "source": [
    "model = Sequential()\n",
    "model.add(Conv1D(18, 7, activation='relu', input_shape=(190,1)))\n",
    "model.add(MaxPooling1D(2))\n",
    "model.add(Conv1D(18, 7, activation='relu'))\n",
    "model.add(MaxPooling1D(2))\n",
    "model.add(Flatten())\n",
    "model.add(Dense(100, activation='relu'))\n",
    "model.add(Dense(5, activation='softmax'))\n",
    "model.summary()"
   ]
  },
  {
   "cell_type": "code",
   "execution_count": 10,
   "metadata": {},
   "outputs": [
    {
     "name": "stdout",
     "output_type": "stream",
     "text": [
      "Model: \"model_1\"\n",
      "__________________________________________________________________________________________________\n",
      "Layer (type)                    Output Shape         Param #     Connected to                     \n",
      "==================================================================================================\n",
      "input_3 (InputLayer)            (None, 256, 256, 3)  0                                            \n",
      "__________________________________________________________________________________________________\n",
      "conv2d_11 (Conv2D)              (None, 256, 256, 64) 256         input_3[0][0]                    \n",
      "__________________________________________________________________________________________________\n",
      "conv2d_13 (Conv2D)              (None, 256, 256, 64) 256         input_3[0][0]                    \n",
      "__________________________________________________________________________________________________\n",
      "max_pooling2d_3 (MaxPooling2D)  (None, 256, 256, 3)  0           input_3[0][0]                    \n",
      "__________________________________________________________________________________________________\n",
      "conv2d_12 (Conv2D)              (None, 256, 256, 64) 36928       conv2d_11[0][0]                  \n",
      "__________________________________________________________________________________________________\n",
      "conv2d_14 (Conv2D)              (None, 256, 256, 64) 102464      conv2d_13[0][0]                  \n",
      "__________________________________________________________________________________________________\n",
      "conv2d_15 (Conv2D)              (None, 256, 256, 64) 256         max_pooling2d_3[0][0]            \n",
      "__________________________________________________________________________________________________\n",
      "concatenate_1 (Concatenate)     (None, 768, 256, 64) 0           conv2d_12[0][0]                  \n",
      "                                                                 conv2d_14[0][0]                  \n",
      "                                                                 conv2d_15[0][0]                  \n",
      "==================================================================================================\n",
      "Total params: 140,160\n",
      "Trainable params: 140,160\n",
      "Non-trainable params: 0\n",
      "__________________________________________________________________________________________________\n"
     ]
    }
   ],
   "source": [
    "from keras.layers import Conv2D, MaxPooling2D, Input, Dense, Flatten\n",
    "from keras.models import Model\n",
    "import keras.layers\n",
    "\n",
    "input_img = Input(shape=(256, 256, 3))\n",
    "\n",
    "tower_1 = Conv2D(64, (1, 1), padding='same', activation='relu')(input_img)\n",
    "tower_1 = Conv2D(64, (3, 3), padding='same', activation='relu')(tower_1)\n",
    "\n",
    "tower_2 = Conv2D(64, (1, 1), padding='same', activation='relu')(input_img)\n",
    "tower_2 = Conv2D(64, (5, 5), padding='same', activation='relu')(tower_2)\n",
    "\n",
    "tower_3 = MaxPooling2D((3, 3), strides=(1, 1), padding='same')(input_img)\n",
    "tower_3 = Conv2D(64, (1, 1), padding='same', activation='relu')(tower_3)\n",
    "\n",
    "output = keras.layers.concatenate([tower_1, tower_2, tower_3], axis=1)\n",
    "v_model = Model(input_img,output)\n",
    "v_model.summary()"
   ]
  },
  {
   "cell_type": "code",
   "execution_count": null,
   "metadata": {},
   "outputs": [],
   "source": []
  }
 ],
 "metadata": {
  "kernelspec": {
   "display_name": "Python 3",
   "language": "python",
   "name": "python3"
  },
  "language_info": {
   "codemirror_mode": {
    "name": "ipython",
    "version": 3
   },
   "file_extension": ".py",
   "mimetype": "text/x-python",
   "name": "python",
   "nbconvert_exporter": "python",
   "pygments_lexer": "ipython3",
   "version": "3.7.9"
  }
 },
 "nbformat": 4,
 "nbformat_minor": 4
}
